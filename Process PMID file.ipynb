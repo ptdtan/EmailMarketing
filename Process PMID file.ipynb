{
 "cells": [
  {
   "cell_type": "code",
   "execution_count": 9,
   "metadata": {},
   "outputs": [],
   "source": [
    "pmid_f = \"/Users/bioturing/Downloads/pmc_result (1).txt\"\n",
    "author_f = \"Authors_Liver.txt\""
   ]
  },
  {
   "cell_type": "code",
   "execution_count": 10,
   "metadata": {},
   "outputs": [],
   "source": [
    "pmid = open(pmid_f)\n",
    "out_f = open(author_f, \"w\")\n",
    "\n",
    "lines = pmid.read().strip().split(\"\\n\")\n",
    "\n",
    "for i in range(0, len(lines), 5):\n",
    "    title = lines[i]\n",
    "    authors = lines[i + 1]\n",
    "    cite = lines[i + 2]\n",
    "    id = lines[i + 3]\n",
    "    out_f.write(\";\".join([title, authors]) + \"\\n\")\n",
    "out_f.close()"
   ]
  },
  {
   "cell_type": "code",
   "execution_count": null,
   "metadata": {},
   "outputs": [],
   "source": []
  }
 ],
 "metadata": {
  "kernelspec": {
   "display_name": "Python 2",
   "language": "python",
   "name": "python2"
  },
  "language_info": {
   "codemirror_mode": {
    "name": "ipython",
    "version": 2
   },
   "file_extension": ".py",
   "mimetype": "text/x-python",
   "name": "python",
   "nbconvert_exporter": "python",
   "pygments_lexer": "ipython2",
   "version": "2.7.13"
  }
 },
 "nbformat": 4,
 "nbformat_minor": 2
}
